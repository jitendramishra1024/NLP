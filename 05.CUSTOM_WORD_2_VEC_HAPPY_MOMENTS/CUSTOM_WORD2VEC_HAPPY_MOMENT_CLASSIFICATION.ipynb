{
  "nbformat": 4,
  "nbformat_minor": 0,
  "metadata": {
    "colab": {
      "name": "CUSTOM_WORD2VEC_HAPPY_MOMENT_CLASSIFICATION.ipynb",
      "provenance": []
    },
    "kernelspec": {
      "name": "python3",
      "display_name": "Python 3"
    }
  },
  "cells": [
    {
      "cell_type": "code",
      "metadata": {
        "id": "TKSYFwT-NYWW",
        "colab_type": "code",
        "colab": {}
      },
      "source": [
        "#DATASET LINK\n",
        "#https://github.com/megagonlabs/HappyDB"
      ],
      "execution_count": 35,
      "outputs": []
    },
    {
      "cell_type": "code",
      "metadata": {
        "id": "bYDCX9C1Nv54",
        "colab_type": "code",
        "colab": {}
      },
      "source": [
        "#LIBRARY \n",
        "import numpy as np \n",
        "import pandas as pd\n",
        "import gensim\n",
        "import os\n",
        "from tensorflow.python.keras.preprocessing.text import Tokenizer\n",
        "from tensorflow.python.keras.preprocessing.sequence import pad_sequences\n",
        "from keras.models import Sequential\n",
        "from keras.layers import Dense, Embedding, GRU, LSTM\n",
        "from keras.layers.embeddings import Embedding\n",
        "from keras.initializers import Constant\n",
        "from keras.callbacks import ModelCheckpoint\n",
        "from keras.models import load_model"
      ],
      "execution_count": 36,
      "outputs": []
    },
    {
      "cell_type": "code",
      "metadata": {
        "id": "Y-T8wHF5N7st",
        "colab_type": "code",
        "colab": {
          "base_uri": "https://localhost:8080/",
          "height": 55
        },
        "outputId": "198962dc-fba2-4fa7-d3ed-1619b556ba49"
      },
      "source": [
        "from google.colab import drive\n",
        "drive.mount('/content/drive')"
      ],
      "execution_count": 37,
      "outputs": [
        {
          "output_type": "stream",
          "text": [
            "Drive already mounted at /content/drive; to attempt to forcibly remount, call drive.mount(\"/content/drive\", force_remount=True).\n"
          ],
          "name": "stdout"
        }
      ]
    },
    {
      "cell_type": "code",
      "metadata": {
        "id": "t2zLfaHPN8e_",
        "colab_type": "code",
        "colab": {
          "base_uri": "https://localhost:8080/",
          "height": 529
        },
        "outputId": "7936f010-2570-4da1-bd35-35a4081bad0d"
      },
      "source": [
        "data = pd.read_csv(\"/content/drive/My Drive/Colab Notebooks/cleaned_hm.csv\")\n",
        "data.head()"
      ],
      "execution_count": 38,
      "outputs": [
        {
          "output_type": "execute_result",
          "data": {
            "text/html": [
              "<div>\n",
              "<style scoped>\n",
              "    .dataframe tbody tr th:only-of-type {\n",
              "        vertical-align: middle;\n",
              "    }\n",
              "\n",
              "    .dataframe tbody tr th {\n",
              "        vertical-align: top;\n",
              "    }\n",
              "\n",
              "    .dataframe thead th {\n",
              "        text-align: right;\n",
              "    }\n",
              "</style>\n",
              "<table border=\"1\" class=\"dataframe\">\n",
              "  <thead>\n",
              "    <tr style=\"text-align: right;\">\n",
              "      <th></th>\n",
              "      <th>hmid</th>\n",
              "      <th>wid</th>\n",
              "      <th>reflection_period</th>\n",
              "      <th>original_hm</th>\n",
              "      <th>cleaned_hm</th>\n",
              "      <th>modified</th>\n",
              "      <th>num_sentence</th>\n",
              "      <th>ground_truth_category</th>\n",
              "      <th>predicted_category</th>\n",
              "    </tr>\n",
              "  </thead>\n",
              "  <tbody>\n",
              "    <tr>\n",
              "      <th>0</th>\n",
              "      <td>27673</td>\n",
              "      <td>2053</td>\n",
              "      <td>24h</td>\n",
              "      <td>I went on a successful date with someone I fel...</td>\n",
              "      <td>I went on a successful date with someone I fel...</td>\n",
              "      <td>True</td>\n",
              "      <td>1</td>\n",
              "      <td>NaN</td>\n",
              "      <td>affection</td>\n",
              "    </tr>\n",
              "    <tr>\n",
              "      <th>1</th>\n",
              "      <td>27674</td>\n",
              "      <td>2</td>\n",
              "      <td>24h</td>\n",
              "      <td>I was happy when my son got 90% marks in his e...</td>\n",
              "      <td>I was happy when my son got 90% marks in his e...</td>\n",
              "      <td>True</td>\n",
              "      <td>1</td>\n",
              "      <td>NaN</td>\n",
              "      <td>affection</td>\n",
              "    </tr>\n",
              "    <tr>\n",
              "      <th>2</th>\n",
              "      <td>27675</td>\n",
              "      <td>1936</td>\n",
              "      <td>24h</td>\n",
              "      <td>I went to the gym this morning and did yoga.</td>\n",
              "      <td>I went to the gym this morning and did yoga.</td>\n",
              "      <td>True</td>\n",
              "      <td>1</td>\n",
              "      <td>NaN</td>\n",
              "      <td>exercise</td>\n",
              "    </tr>\n",
              "    <tr>\n",
              "      <th>3</th>\n",
              "      <td>27676</td>\n",
              "      <td>206</td>\n",
              "      <td>24h</td>\n",
              "      <td>We had a serious talk with some friends of our...</td>\n",
              "      <td>We had a serious talk with some friends of our...</td>\n",
              "      <td>True</td>\n",
              "      <td>2</td>\n",
              "      <td>bonding</td>\n",
              "      <td>bonding</td>\n",
              "    </tr>\n",
              "    <tr>\n",
              "      <th>4</th>\n",
              "      <td>27677</td>\n",
              "      <td>6227</td>\n",
              "      <td>24h</td>\n",
              "      <td>I went with grandchildren to butterfly display...</td>\n",
              "      <td>I went with grandchildren to butterfly display...</td>\n",
              "      <td>True</td>\n",
              "      <td>1</td>\n",
              "      <td>NaN</td>\n",
              "      <td>affection</td>\n",
              "    </tr>\n",
              "  </tbody>\n",
              "</table>\n",
              "</div>"
            ],
            "text/plain": [
              "    hmid   wid  ... ground_truth_category predicted_category\n",
              "0  27673  2053  ...                   NaN          affection\n",
              "1  27674     2  ...                   NaN          affection\n",
              "2  27675  1936  ...                   NaN           exercise\n",
              "3  27676   206  ...               bonding            bonding\n",
              "4  27677  6227  ...                   NaN          affection\n",
              "\n",
              "[5 rows x 9 columns]"
            ]
          },
          "metadata": {
            "tags": []
          },
          "execution_count": 38
        }
      ]
    },
    {
      "cell_type": "code",
      "metadata": {
        "id": "8sUi-W-lOWJg",
        "colab_type": "code",
        "colab": {
          "base_uri": "https://localhost:8080/",
          "height": 163
        },
        "outputId": "ee4f8354-a03d-4dad-ca85-e53a438b33e9"
      },
      "source": [
        "#Do categories wise value count \n",
        "data['predicted_category'].value_counts()"
      ],
      "execution_count": 39,
      "outputs": [
        {
          "output_type": "execute_result",
          "data": {
            "text/plain": [
              "affection           34168\n",
              "achievement         33993\n",
              "enjoy_the_moment    11144\n",
              "bonding             10727\n",
              "leisure              7458\n",
              "nature               1843\n",
              "exercise             1202\n",
              "Name: predicted_category, dtype: int64"
            ]
          },
          "metadata": {
            "tags": []
          },
          "execution_count": 39
        }
      ]
    },
    {
      "cell_type": "code",
      "metadata": {
        "id": "Oz-11g4FOdNK",
        "colab_type": "code",
        "colab": {
          "base_uri": "https://localhost:8080/",
          "height": 163
        },
        "outputId": "b575e80e-3366-4b1b-b606-c4bd73db2599"
      },
      "source": [
        "# deleting happy moments with more than 10 sentences\n",
        "mod_data = data.loc[data['num_sentence'] <= 10]\n",
        "mod_data[\"predicted_category\"].value_counts()"
      ],
      "execution_count": 40,
      "outputs": [
        {
          "output_type": "execute_result",
          "data": {
            "text/plain": [
              "affection           34020\n",
              "achievement         33966\n",
              "enjoy_the_moment    11115\n",
              "bonding             10700\n",
              "leisure              7458\n",
              "nature               1839\n",
              "exercise             1202\n",
              "Name: predicted_category, dtype: int64"
            ]
          },
          "metadata": {
            "tags": []
          },
          "execution_count": 40
        }
      ]
    },
    {
      "cell_type": "code",
      "metadata": {
        "id": "joRr4HbsOiVJ",
        "colab_type": "code",
        "colab": {
          "base_uri": "https://localhost:8080/",
          "height": 638
        },
        "outputId": "58226076-9577-4d52-f1fd-60057f6ecaed"
      },
      "source": [
        "\n",
        "## categorical to numerical\n",
        "encode = {\n",
        "    \"affection\" : 0,\n",
        "    \"achievement\"  : 1,       \n",
        "    \"bonding\" : 2,    \n",
        "    \"enjoy_the_moment\" : 3,     \n",
        "    \"leisure\"  : 4,    \n",
        "    \"nature\" : 5,    \n",
        "    \"exercise\" : 6\n",
        "}\n",
        "mod_data[\"predicted_category\"] = mod_data[\"predicted_category\"].apply(lambda x: encode[x])\n",
        "mod_data.head()"
      ],
      "execution_count": 41,
      "outputs": [
        {
          "output_type": "stream",
          "text": [
            "/usr/local/lib/python3.6/dist-packages/ipykernel_launcher.py:12: SettingWithCopyWarning: \n",
            "A value is trying to be set on a copy of a slice from a DataFrame.\n",
            "Try using .loc[row_indexer,col_indexer] = value instead\n",
            "\n",
            "See the caveats in the documentation: https://pandas.pydata.org/pandas-docs/stable/user_guide/indexing.html#returning-a-view-versus-a-copy\n",
            "  if sys.path[0] == '':\n"
          ],
          "name": "stderr"
        },
        {
          "output_type": "execute_result",
          "data": {
            "text/html": [
              "<div>\n",
              "<style scoped>\n",
              "    .dataframe tbody tr th:only-of-type {\n",
              "        vertical-align: middle;\n",
              "    }\n",
              "\n",
              "    .dataframe tbody tr th {\n",
              "        vertical-align: top;\n",
              "    }\n",
              "\n",
              "    .dataframe thead th {\n",
              "        text-align: right;\n",
              "    }\n",
              "</style>\n",
              "<table border=\"1\" class=\"dataframe\">\n",
              "  <thead>\n",
              "    <tr style=\"text-align: right;\">\n",
              "      <th></th>\n",
              "      <th>hmid</th>\n",
              "      <th>wid</th>\n",
              "      <th>reflection_period</th>\n",
              "      <th>original_hm</th>\n",
              "      <th>cleaned_hm</th>\n",
              "      <th>modified</th>\n",
              "      <th>num_sentence</th>\n",
              "      <th>ground_truth_category</th>\n",
              "      <th>predicted_category</th>\n",
              "    </tr>\n",
              "  </thead>\n",
              "  <tbody>\n",
              "    <tr>\n",
              "      <th>0</th>\n",
              "      <td>27673</td>\n",
              "      <td>2053</td>\n",
              "      <td>24h</td>\n",
              "      <td>I went on a successful date with someone I fel...</td>\n",
              "      <td>I went on a successful date with someone I fel...</td>\n",
              "      <td>True</td>\n",
              "      <td>1</td>\n",
              "      <td>NaN</td>\n",
              "      <td>0</td>\n",
              "    </tr>\n",
              "    <tr>\n",
              "      <th>1</th>\n",
              "      <td>27674</td>\n",
              "      <td>2</td>\n",
              "      <td>24h</td>\n",
              "      <td>I was happy when my son got 90% marks in his e...</td>\n",
              "      <td>I was happy when my son got 90% marks in his e...</td>\n",
              "      <td>True</td>\n",
              "      <td>1</td>\n",
              "      <td>NaN</td>\n",
              "      <td>0</td>\n",
              "    </tr>\n",
              "    <tr>\n",
              "      <th>2</th>\n",
              "      <td>27675</td>\n",
              "      <td>1936</td>\n",
              "      <td>24h</td>\n",
              "      <td>I went to the gym this morning and did yoga.</td>\n",
              "      <td>I went to the gym this morning and did yoga.</td>\n",
              "      <td>True</td>\n",
              "      <td>1</td>\n",
              "      <td>NaN</td>\n",
              "      <td>6</td>\n",
              "    </tr>\n",
              "    <tr>\n",
              "      <th>3</th>\n",
              "      <td>27676</td>\n",
              "      <td>206</td>\n",
              "      <td>24h</td>\n",
              "      <td>We had a serious talk with some friends of our...</td>\n",
              "      <td>We had a serious talk with some friends of our...</td>\n",
              "      <td>True</td>\n",
              "      <td>2</td>\n",
              "      <td>bonding</td>\n",
              "      <td>2</td>\n",
              "    </tr>\n",
              "    <tr>\n",
              "      <th>4</th>\n",
              "      <td>27677</td>\n",
              "      <td>6227</td>\n",
              "      <td>24h</td>\n",
              "      <td>I went with grandchildren to butterfly display...</td>\n",
              "      <td>I went with grandchildren to butterfly display...</td>\n",
              "      <td>True</td>\n",
              "      <td>1</td>\n",
              "      <td>NaN</td>\n",
              "      <td>0</td>\n",
              "    </tr>\n",
              "  </tbody>\n",
              "</table>\n",
              "</div>"
            ],
            "text/plain": [
              "    hmid   wid  ... ground_truth_category predicted_category\n",
              "0  27673  2053  ...                   NaN                  0\n",
              "1  27674     2  ...                   NaN                  0\n",
              "2  27675  1936  ...                   NaN                  6\n",
              "3  27676   206  ...               bonding                  2\n",
              "4  27677  6227  ...                   NaN                  0\n",
              "\n",
              "[5 rows x 9 columns]"
            ]
          },
          "metadata": {
            "tags": []
          },
          "execution_count": 41
        }
      ]
    },
    {
      "cell_type": "code",
      "metadata": {
        "id": "bir5tOBBOnSE",
        "colab_type": "code",
        "colab": {
          "base_uri": "https://localhost:8080/",
          "height": 90
        },
        "outputId": "845ac23f-8de1-46b2-b9d0-b5c402bfd224"
      },
      "source": [
        "#text cleaning for NLP\n",
        "import nltk\n",
        "nltk.download('punkt')\n",
        "nltk.download('stopwords')\n",
        "\n",
        "import re\n",
        "import nltk\n",
        "import string\n",
        "from nltk.tokenize import word_tokenize\n",
        "from nltk.corpus import stopwords\n",
        "from nltk.stem.porter import PorterStemmer\n",
        "from nltk.stem import WordNetLemmatizer\n",
        "lemmatizer = WordNetLemmatizer()\n",
        "ps = PorterStemmer()"
      ],
      "execution_count": 42,
      "outputs": [
        {
          "output_type": "stream",
          "text": [
            "[nltk_data] Downloading package punkt to /root/nltk_data...\n",
            "[nltk_data]   Package punkt is already up-to-date!\n",
            "[nltk_data] Downloading package stopwords to /root/nltk_data...\n",
            "[nltk_data]   Package stopwords is already up-to-date!\n"
          ],
          "name": "stdout"
        }
      ]
    },
    {
      "cell_type": "code",
      "metadata": {
        "id": "pz3I8N_ROycb",
        "colab_type": "code",
        "colab": {
          "base_uri": "https://localhost:8080/",
          "height": 1000
        },
        "outputId": "222457dc-70ee-4592-8b1d-60c37ece512d"
      },
      "source": [
        "def clean_text(df):\n",
        "    all_reviews = list()\n",
        "    lines = df[\"cleaned_hm\"].values.tolist()\n",
        "    for text in lines:\n",
        "        text = text.lower()\n",
        "        text = re.sub('[^a-zA-Z]', ' ', text)\n",
        "        words=nltk.word_tokenize(text)\n",
        "        stop_words= set(stopwords.words('english'))\n",
        "        stop_words.discard(\"not\")\n",
        "        words_without_stop_words=[word for word in words if word not in stop_words]\n",
        "        #words=[lemmatizer.lemmatize(word) for word in words_without_stop_words ]\n",
        "        #words=[ps.stem(word) for word in words_without_stop_words ]\n",
        "        #words = ' '.join(words)\n",
        "        all_reviews.append(words)\n",
        "    return all_reviews\n",
        "happy_lines = clean_text(mod_data)\n",
        "happy_lines[0:5]  "
      ],
      "execution_count": 43,
      "outputs": [
        {
          "output_type": "execute_result",
          "data": {
            "text/plain": [
              "[['i',\n",
              "  'went',\n",
              "  'on',\n",
              "  'a',\n",
              "  'successful',\n",
              "  'date',\n",
              "  'with',\n",
              "  'someone',\n",
              "  'i',\n",
              "  'felt',\n",
              "  'sympathy',\n",
              "  'and',\n",
              "  'connection',\n",
              "  'with'],\n",
              " ['i',\n",
              "  'was',\n",
              "  'happy',\n",
              "  'when',\n",
              "  'my',\n",
              "  'son',\n",
              "  'got',\n",
              "  'marks',\n",
              "  'in',\n",
              "  'his',\n",
              "  'examination'],\n",
              " ['i', 'went', 'to', 'the', 'gym', 'this', 'morning', 'and', 'did', 'yoga'],\n",
              " ['we',\n",
              "  'had',\n",
              "  'a',\n",
              "  'serious',\n",
              "  'talk',\n",
              "  'with',\n",
              "  'some',\n",
              "  'friends',\n",
              "  'of',\n",
              "  'ours',\n",
              "  'who',\n",
              "  'have',\n",
              "  'been',\n",
              "  'flaky',\n",
              "  'lately',\n",
              "  'they',\n",
              "  'understood',\n",
              "  'and',\n",
              "  'we',\n",
              "  'had',\n",
              "  'a',\n",
              "  'good',\n",
              "  'evening',\n",
              "  'hanging',\n",
              "  'out'],\n",
              " ['i',\n",
              "  'went',\n",
              "  'with',\n",
              "  'grandchildren',\n",
              "  'to',\n",
              "  'butterfly',\n",
              "  'display',\n",
              "  'at',\n",
              "  'crohn',\n",
              "  'conservatory']]"
            ]
          },
          "metadata": {
            "tags": []
          },
          "execution_count": 43
        }
      ]
    },
    {
      "cell_type": "code",
      "metadata": {
        "id": "QnVa-y3PO8QC",
        "colab_type": "code",
        "colab": {
          "base_uri": "https://localhost:8080/",
          "height": 54
        },
        "outputId": "afae1954-21e5-4297-cf7c-b4a4a078bbae"
      },
      "source": [
        "#number of words in each review/ happymoments/sentence=55\n",
        "validation_split = 0.2\n",
        "max_length = 55\n",
        "#tokenize te sentences and represent them in numbers other way is to todo one hot \n",
        "tokenizer_obj = Tokenizer()\n",
        "tokenizer_obj.fit_on_texts(happy_lines)\n",
        "sequences = tokenizer_obj.texts_to_sequences(happy_lines)\n",
        "word_index = tokenizer_obj.word_index\n",
        "print(\"unique tokens - \"+str(len(word_index)))\n",
        "vocab_size = len(tokenizer_obj.word_index) + 1\n",
        "print('vocab_size - '+str(vocab_size))\n",
        "lines_pad = pad_sequences(sequences, maxlen=max_length, padding='post')"
      ],
      "execution_count": 44,
      "outputs": [
        {
          "output_type": "stream",
          "text": [
            "unique tokens - 23773\n",
            "vocab_size - 23774\n"
          ],
          "name": "stdout"
        }
      ]
    },
    {
      "cell_type": "code",
      "metadata": {
        "id": "oHYm48rlPP57",
        "colab_type": "code",
        "colab": {
          "base_uri": "https://localhost:8080/",
          "height": 90
        },
        "outputId": "440c4496-70b9-4a68-f256-039538252718"
      },
      "source": [
        "X=lines_pad\n",
        "y=pd.get_dummies(mod_data['predicted_category']).values\n",
        "from sklearn.model_selection import train_test_split\n",
        "X_train, X_test, y_train, y_test = train_test_split(X, y, test_size = 0.2, random_state = 42)\n",
        "\n",
        "print('Shape of X_train_pad:', X_train.shape)\n",
        "print('Shape of y_train:', y_train.shape)\n",
        "\n",
        "print('Shape of X_test_pad:', X_test.shape)\n",
        "print('Shape of y_test:', y_test.shape)"
      ],
      "execution_count": 45,
      "outputs": [
        {
          "output_type": "stream",
          "text": [
            "Shape of X_train_pad: (80240, 55)\n",
            "Shape of y_train: (80240, 7)\n",
            "Shape of X_test_pad: (20060, 55)\n",
            "Shape of y_test: (20060, 7)\n"
          ],
          "name": "stdout"
        }
      ]
    },
    {
      "cell_type": "code",
      "metadata": {
        "id": "MWxTbS8nRF0J",
        "colab_type": "code",
        "colab": {
          "base_uri": "https://localhost:8080/",
          "height": 35
        },
        "outputId": "51b1ac8c-473b-4ff2-cde1-511b4e8cb760"
      },
      "source": [
        "import gensim\n",
        "model = gensim.models.Word2Vec(sentences=happy_lines, size=100, window=5, workers=4, min_count=1, sg=0) #sg= 1:skip-gram 0:cbow\n",
        "vocab_words = list(model.wv.vocab)                                                                      \n",
        "print(len(vocab_words))"
      ],
      "execution_count": 46,
      "outputs": [
        {
          "output_type": "stream",
          "text": [
            "23773\n"
          ],
          "name": "stdout"
        }
      ]
    },
    {
      "cell_type": "code",
      "metadata": {
        "id": "I834Z0rQTq4O",
        "colab_type": "code",
        "colab": {}
      },
      "source": [
        "#hyper meter  \n",
        "# size: The number of dimensions of the embeddings and the default is 100.\n",
        "# window: The maximum distance between a target word and words around the target word. The default window is 5.\n",
        "# min_count: The minimum count of words to consider when training the model; words with occurrence less than this count will be ignored. The default for min_count is 5.\n",
        "# workers: The number of partitions during training and the default workers is 3.\n",
        "# sg: The training algorithm, either CBOW(0) or skip gram(1). The default training algorithm is CBOW."
      ],
      "execution_count": 47,
      "outputs": []
    },
    {
      "cell_type": "code",
      "metadata": {
        "id": "u7a7u-yBUCqT",
        "colab_type": "code",
        "colab": {
          "base_uri": "https://localhost:8080/",
          "height": 74
        },
        "outputId": "2d5d4673-b86f-4bc3-e913-13df4bc2e25b"
      },
      "source": [
        "#save wordvectors\n",
        "filename = \"/content/drive/My Drive/Colab Notebooks/happydb_word2vec_full.txt\"\n",
        "model.wv.save_word2vec_format(filename, binary=False)"
      ],
      "execution_count": 48,
      "outputs": [
        {
          "output_type": "stream",
          "text": [
            "/usr/local/lib/python3.6/dist-packages/smart_open/smart_open_lib.py:254: UserWarning: This function is deprecated, use smart_open.open instead. See the migration notes for details: https://github.com/RaRe-Technologies/smart_open/blob/master/README.rst#migrating-to-the-new-open-function\n",
            "  'See the migration notes for details: %s' % _MIGRATION_NOTES_URL\n"
          ],
          "name": "stderr"
        }
      ]
    },
    {
      "cell_type": "code",
      "metadata": {
        "id": "BNtt8xUaoSx3",
        "colab_type": "code",
        "colab": {}
      },
      "source": [
        "#read and create embedding matrix\n",
        "embedding_index = {}\n",
        "f = open(os.path.join('', '/content/drive/My Drive/Colab Notebooks/happydb_word2vec_full.txt'),  encoding = \"utf-8\")\n",
        "for line in f:\n",
        "    values = line.split()\n",
        "    word = values[0]\n",
        "    coeff = np.asarray(values[1:], dtype='float32')\n",
        "    embedding_index[word] = coeff\n",
        "f.close()"
      ],
      "execution_count": 49,
      "outputs": []
    },
    {
      "cell_type": "code",
      "metadata": {
        "id": "Nwk4NyS7pGbg",
        "colab_type": "code",
        "colab": {}
      },
      "source": [
        "embedding_dim=100\n",
        "#make a  matrix of zeros with rows = numner of words and columns =300\n",
        "embedding_matrix = np.zeros((len(word_index) + 1, embedding_dim))\n",
        "#if the word is not present in model that we have impoeted then that word vector will be replaced in\n",
        "#embedding matrix otherwise it will remain 0 as we have defined \n",
        "for word, i in word_index.items():\n",
        "    embedding_vector = embedding_index.get(word)\n",
        "    if embedding_vector is not None:\n",
        "        embedding_matrix[i] = embedding_vector"
      ],
      "execution_count": 51,
      "outputs": []
    },
    {
      "cell_type": "code",
      "metadata": {
        "id": "d07ynI2hqya0",
        "colab_type": "code",
        "colab": {}
      },
      "source": [
        "embedding_layer = Embedding(len(word_index) + 1,\n",
        "                            embedding_dim,\n",
        "                            weights=[embedding_matrix],\n",
        "                            input_length=max_length,\n",
        "                            trainable=False)"
      ],
      "execution_count": 52,
      "outputs": []
    },
    {
      "cell_type": "code",
      "metadata": {
        "id": "GzRrqpnQtQga",
        "colab_type": "code",
        "colab": {
          "base_uri": "https://localhost:8080/",
          "height": 290
        },
        "outputId": "14670dc8-4c23-4416-e8be-0397e27925b1"
      },
      "source": [
        "# define model\n",
        "model_own = Sequential()\n",
        "model_own.add(embedding_layer)\n",
        "model_own.add(LSTM(units=32,  dropout=0.2, recurrent_dropout=0.25))\n",
        "model_own.add(Dense(7, activation='softmax'))\n",
        "\n",
        "model_own.compile(loss='categorical_crossentropy', optimizer='adam', metrics=['accuracy'])\n",
        "\n",
        "print(model_own.summary())"
      ],
      "execution_count": 53,
      "outputs": [
        {
          "output_type": "stream",
          "text": [
            "Model: \"sequential_1\"\n",
            "_________________________________________________________________\n",
            "Layer (type)                 Output Shape              Param #   \n",
            "=================================================================\n",
            "embedding_1 (Embedding)      (None, 55, 100)           2377400   \n",
            "_________________________________________________________________\n",
            "lstm_1 (LSTM)                (None, 32)                17024     \n",
            "_________________________________________________________________\n",
            "dense_1 (Dense)              (None, 7)                 231       \n",
            "=================================================================\n",
            "Total params: 2,394,655\n",
            "Trainable params: 17,255\n",
            "Non-trainable params: 2,377,400\n",
            "_________________________________________________________________\n",
            "None\n"
          ],
          "name": "stdout"
        }
      ]
    },
    {
      "cell_type": "code",
      "metadata": {
        "id": "Oq7HktyotW9J",
        "colab_type": "code",
        "colab": {
          "base_uri": "https://localhost:8080/",
          "height": 419
        },
        "outputId": "72e61045-7554-4929-d86c-14fc8b082f47"
      },
      "source": [
        "history_word2vec = model_own.fit(X_train,y_train,validation_data=(X_test,y_test),epochs=10,batch_size=64)"
      ],
      "execution_count": 54,
      "outputs": [
        {
          "output_type": "stream",
          "text": [
            "Train on 80240 samples, validate on 20060 samples\n",
            "Epoch 1/10\n",
            "80240/80240 [==============================] - 46s 575us/step - loss: 1.2107 - accuracy: 0.5628 - val_loss: 0.8698 - val_accuracy: 0.7215\n",
            "Epoch 2/10\n",
            "80240/80240 [==============================] - 46s 568us/step - loss: 0.7499 - accuracy: 0.7511 - val_loss: 0.5430 - val_accuracy: 0.8212\n",
            "Epoch 3/10\n",
            "80240/80240 [==============================] - 46s 572us/step - loss: 0.5459 - accuracy: 0.8170 - val_loss: 0.4692 - val_accuracy: 0.8397\n",
            "Epoch 4/10\n",
            "80240/80240 [==============================] - 46s 574us/step - loss: 0.4889 - accuracy: 0.8325 - val_loss: 0.4258 - val_accuracy: 0.8490\n",
            "Epoch 5/10\n",
            "80240/80240 [==============================] - 46s 570us/step - loss: 0.4540 - accuracy: 0.8393 - val_loss: 0.4009 - val_accuracy: 0.8558\n",
            "Epoch 6/10\n",
            "80240/80240 [==============================] - 46s 575us/step - loss: 0.4295 - accuracy: 0.8467 - val_loss: 0.3770 - val_accuracy: 0.8631\n",
            "Epoch 7/10\n",
            "80240/80240 [==============================] - 46s 573us/step - loss: 0.4132 - accuracy: 0.8518 - val_loss: 0.3620 - val_accuracy: 0.8676\n",
            "Epoch 8/10\n",
            "80240/80240 [==============================] - 46s 569us/step - loss: 0.4006 - accuracy: 0.8544 - val_loss: 0.3536 - val_accuracy: 0.8728\n",
            "Epoch 9/10\n",
            "80240/80240 [==============================] - 46s 570us/step - loss: 0.3909 - accuracy: 0.8578 - val_loss: 0.3526 - val_accuracy: 0.8711\n",
            "Epoch 10/10\n",
            "80240/80240 [==============================] - 46s 568us/step - loss: 0.3822 - accuracy: 0.8601 - val_loss: 0.3447 - val_accuracy: 0.8757\n"
          ],
          "name": "stdout"
        }
      ]
    },
    {
      "cell_type": "code",
      "metadata": {
        "id": "qtsDXcLUtolp",
        "colab_type": "code",
        "colab": {
          "base_uri": "https://localhost:8080/",
          "height": 545
        },
        "outputId": "ec51d788-cc94-441f-af96-1f0924d7a3e2"
      },
      "source": [
        "# Plot results\n",
        "import matplotlib.pyplot as plt\n",
        "\n",
        "acc = history_word2vec.history['accuracy']\n",
        "val_acc = history_word2vec.history['val_accuracy']\n",
        "loss = history_word2vec.history['loss']\n",
        "val_loss = history_word2vec.history['val_loss']\n",
        "\n",
        "epochs = range(1, len(acc)+1)\n",
        "\n",
        "plt.plot(epochs, acc, 'g', label='Training accuracy')\n",
        "plt.plot(epochs, val_acc, 'r', label='Validation accuracy')\n",
        "plt.title('Training and validation accuracy')\n",
        "plt.legend()\n",
        "\n",
        "plt.figure()\n",
        "\n",
        "plt.plot(epochs, loss, 'g', label='Training loss')\n",
        "plt.plot(epochs, val_loss, 'r', label='Validation loss')\n",
        "plt.title('Training and validation loss')\n",
        "plt.legend()\n",
        "\n",
        "plt.show()"
      ],
      "execution_count": 55,
      "outputs": [
        {
          "output_type": "display_data",
          "data": {
            "image/png": "[encoded data removed]",
            "text/plain": [
              "<Figure size 432x288 with 1 Axes>"
            ]
          },
          "metadata": {
            "tags": [],
            "needs_background": "light"
          }
        },
        {
          "output_type": "display_data",
          "data": {
            "image/png": "[encoded data removed]",
            "text/plain": [
              "<Figure size 432x288 with 1 Axes>"
            ]
          },
          "metadata": {
            "tags": [],
            "needs_background": "light"
          }
        }
      ]
    },
    {
      "cell_type": "code",
      "metadata": {
        "id": "QG1vp16gudUm",
        "colab_type": "code",
        "colab": {
          "base_uri": "https://localhost:8080/",
          "height": 90
        },
        "outputId": "3fa3b189-48a7-48ed-9580-00ef02155a5c"
      },
      "source": [
        "accr = model_own.evaluate(X_test,y_test)\n",
        "print('Test set\\n  Loss: {:0.3f}\\n  Accuracy: {:0.3f}'.format(accr[0],accr[1]))"
      ],
      "execution_count": 56,
      "outputs": [
        {
          "output_type": "stream",
          "text": [
            "20060/20060 [==============================] - 4s 222us/step\n",
            "Test set\n",
            "  Loss: 0.345\n",
            "  Accuracy: 0.876\n"
          ],
          "name": "stdout"
        }
      ]
    },
    {
      "cell_type": "code",
      "metadata": {
        "id": "dDD1L-JuyXJ_",
        "colab_type": "code",
        "colab": {
          "base_uri": "https://localhost:8080/",
          "height": 54
        },
        "outputId": "6b73235b-6825-4d44-f6fd-ba0374ae363f"
      },
      "source": [
        "#TEST With a new emotion for classification \n",
        "max_length = 55 #this is already defined on top\n",
        "new_emotion = ['I went to the gym this morning and did yoga ']\n",
        "seq = tokenizer_obj.texts_to_sequences(new_emotion)\n",
        "padded = pad_sequences(seq, maxlen=max_length)\n",
        "pred = model_own.predict(padded)\n",
        "labels = ['affection','achievement','enjoy_the_moment','bonding','leisure','nature','exercise']\n",
        "print(pred, labels[np.argmax(pred)])"
      ],
      "execution_count": 58,
      "outputs": [
        {
          "output_type": "stream",
          "text": [
            "[[0.00322948 0.06620643 0.00280707 0.01825686 0.05572937 0.00419144\n",
            "  0.84957933]] exercise\n"
          ],
          "name": "stdout"
        }
      ]
    },
    {
      "cell_type": "code",
      "metadata": {
        "id": "MY7ETzdyyZOZ",
        "colab_type": "code",
        "colab": {}
      },
      "source": [
        ""
      ],
      "execution_count": null,
      "outputs": []
    }
  ]
}